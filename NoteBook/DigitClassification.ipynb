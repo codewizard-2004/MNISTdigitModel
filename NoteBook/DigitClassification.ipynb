{
  "nbformat": 4,
  "nbformat_minor": 0,
  "metadata": {
    "colab": {
      "provenance": [],
      "gpuType": "T4"
    },
    "kernelspec": {
      "name": "python3",
      "display_name": "Python 3"
    },
    "language_info": {
      "name": "python"
    },
    "accelerator": "GPU",
    "widgets": {
      "application/vnd.jupyter.widget-state+json": {
        "87530f70f4194c7b8d178ceda71d9a50": {
          "model_module": "@jupyter-widgets/controls",
          "model_name": "HBoxModel",
          "model_module_version": "1.5.0",
          "state": {
            "_dom_classes": [],
            "_model_module": "@jupyter-widgets/controls",
            "_model_module_version": "1.5.0",
            "_model_name": "HBoxModel",
            "_view_count": null,
            "_view_module": "@jupyter-widgets/controls",
            "_view_module_version": "1.5.0",
            "_view_name": "HBoxView",
            "box_style": "",
            "children": [
              "IPY_MODEL_e9144c80d590471e9a89389ba18a3acb",
              "IPY_MODEL_629675a0e7cc406daa1493f3e5f404a8",
              "IPY_MODEL_9f815b31ff834e1b9057a79ceac84e7f"
            ],
            "layout": "IPY_MODEL_715e0ac1be2e410f91733af2a0e445c9"
          }
        },
        "e9144c80d590471e9a89389ba18a3acb": {
          "model_module": "@jupyter-widgets/controls",
          "model_name": "HTMLModel",
          "model_module_version": "1.5.0",
          "state": {
            "_dom_classes": [],
            "_model_module": "@jupyter-widgets/controls",
            "_model_module_version": "1.5.0",
            "_model_name": "HTMLModel",
            "_view_count": null,
            "_view_module": "@jupyter-widgets/controls",
            "_view_module_version": "1.5.0",
            "_view_name": "HTMLView",
            "description": "",
            "description_tooltip": null,
            "layout": "IPY_MODEL_9e6c574dffe04c5ab109ee40afd21d94",
            "placeholder": "​",
            "style": "IPY_MODEL_1120ba558d684b638d99952d3351e631",
            "value": "100%"
          }
        },
        "629675a0e7cc406daa1493f3e5f404a8": {
          "model_module": "@jupyter-widgets/controls",
          "model_name": "FloatProgressModel",
          "model_module_version": "1.5.0",
          "state": {
            "_dom_classes": [],
            "_model_module": "@jupyter-widgets/controls",
            "_model_module_version": "1.5.0",
            "_model_name": "FloatProgressModel",
            "_view_count": null,
            "_view_module": "@jupyter-widgets/controls",
            "_view_module_version": "1.5.0",
            "_view_name": "ProgressView",
            "bar_style": "success",
            "description": "",
            "description_tooltip": null,
            "layout": "IPY_MODEL_1747742f5d514c468daeda19eaf387e7",
            "max": 3,
            "min": 0,
            "orientation": "horizontal",
            "style": "IPY_MODEL_9b440ec08e1145cba3ed25e7c754d9b0",
            "value": 3
          }
        },
        "9f815b31ff834e1b9057a79ceac84e7f": {
          "model_module": "@jupyter-widgets/controls",
          "model_name": "HTMLModel",
          "model_module_version": "1.5.0",
          "state": {
            "_dom_classes": [],
            "_model_module": "@jupyter-widgets/controls",
            "_model_module_version": "1.5.0",
            "_model_name": "HTMLModel",
            "_view_count": null,
            "_view_module": "@jupyter-widgets/controls",
            "_view_module_version": "1.5.0",
            "_view_name": "HTMLView",
            "description": "",
            "description_tooltip": null,
            "layout": "IPY_MODEL_914dd244483a4f3e9bd82109368d5689",
            "placeholder": "​",
            "style": "IPY_MODEL_2784c2f948c34f71b558d8fd40837eca",
            "value": " 3/3 [01:54&lt;00:00, 36.63s/it]"
          }
        },
        "715e0ac1be2e410f91733af2a0e445c9": {
          "model_module": "@jupyter-widgets/base",
          "model_name": "LayoutModel",
          "model_module_version": "1.2.0",
          "state": {
            "_model_module": "@jupyter-widgets/base",
            "_model_module_version": "1.2.0",
            "_model_name": "LayoutModel",
            "_view_count": null,
            "_view_module": "@jupyter-widgets/base",
            "_view_module_version": "1.2.0",
            "_view_name": "LayoutView",
            "align_content": null,
            "align_items": null,
            "align_self": null,
            "border": null,
            "bottom": null,
            "display": null,
            "flex": null,
            "flex_flow": null,
            "grid_area": null,
            "grid_auto_columns": null,
            "grid_auto_flow": null,
            "grid_auto_rows": null,
            "grid_column": null,
            "grid_gap": null,
            "grid_row": null,
            "grid_template_areas": null,
            "grid_template_columns": null,
            "grid_template_rows": null,
            "height": null,
            "justify_content": null,
            "justify_items": null,
            "left": null,
            "margin": null,
            "max_height": null,
            "max_width": null,
            "min_height": null,
            "min_width": null,
            "object_fit": null,
            "object_position": null,
            "order": null,
            "overflow": null,
            "overflow_x": null,
            "overflow_y": null,
            "padding": null,
            "right": null,
            "top": null,
            "visibility": null,
            "width": null
          }
        },
        "9e6c574dffe04c5ab109ee40afd21d94": {
          "model_module": "@jupyter-widgets/base",
          "model_name": "LayoutModel",
          "model_module_version": "1.2.0",
          "state": {
            "_model_module": "@jupyter-widgets/base",
            "_model_module_version": "1.2.0",
            "_model_name": "LayoutModel",
            "_view_count": null,
            "_view_module": "@jupyter-widgets/base",
            "_view_module_version": "1.2.0",
            "_view_name": "LayoutView",
            "align_content": null,
            "align_items": null,
            "align_self": null,
            "border": null,
            "bottom": null,
            "display": null,
            "flex": null,
            "flex_flow": null,
            "grid_area": null,
            "grid_auto_columns": null,
            "grid_auto_flow": null,
            "grid_auto_rows": null,
            "grid_column": null,
            "grid_gap": null,
            "grid_row": null,
            "grid_template_areas": null,
            "grid_template_columns": null,
            "grid_template_rows": null,
            "height": null,
            "justify_content": null,
            "justify_items": null,
            "left": null,
            "margin": null,
            "max_height": null,
            "max_width": null,
            "min_height": null,
            "min_width": null,
            "object_fit": null,
            "object_position": null,
            "order": null,
            "overflow": null,
            "overflow_x": null,
            "overflow_y": null,
            "padding": null,
            "right": null,
            "top": null,
            "visibility": null,
            "width": null
          }
        },
        "1120ba558d684b638d99952d3351e631": {
          "model_module": "@jupyter-widgets/controls",
          "model_name": "DescriptionStyleModel",
          "model_module_version": "1.5.0",
          "state": {
            "_model_module": "@jupyter-widgets/controls",
            "_model_module_version": "1.5.0",
            "_model_name": "DescriptionStyleModel",
            "_view_count": null,
            "_view_module": "@jupyter-widgets/base",
            "_view_module_version": "1.2.0",
            "_view_name": "StyleView",
            "description_width": ""
          }
        },
        "1747742f5d514c468daeda19eaf387e7": {
          "model_module": "@jupyter-widgets/base",
          "model_name": "LayoutModel",
          "model_module_version": "1.2.0",
          "state": {
            "_model_module": "@jupyter-widgets/base",
            "_model_module_version": "1.2.0",
            "_model_name": "LayoutModel",
            "_view_count": null,
            "_view_module": "@jupyter-widgets/base",
            "_view_module_version": "1.2.0",
            "_view_name": "LayoutView",
            "align_content": null,
            "align_items": null,
            "align_self": null,
            "border": null,
            "bottom": null,
            "display": null,
            "flex": null,
            "flex_flow": null,
            "grid_area": null,
            "grid_auto_columns": null,
            "grid_auto_flow": null,
            "grid_auto_rows": null,
            "grid_column": null,
            "grid_gap": null,
            "grid_row": null,
            "grid_template_areas": null,
            "grid_template_columns": null,
            "grid_template_rows": null,
            "height": null,
            "justify_content": null,
            "justify_items": null,
            "left": null,
            "margin": null,
            "max_height": null,
            "max_width": null,
            "min_height": null,
            "min_width": null,
            "object_fit": null,
            "object_position": null,
            "order": null,
            "overflow": null,
            "overflow_x": null,
            "overflow_y": null,
            "padding": null,
            "right": null,
            "top": null,
            "visibility": null,
            "width": null
          }
        },
        "9b440ec08e1145cba3ed25e7c754d9b0": {
          "model_module": "@jupyter-widgets/controls",
          "model_name": "ProgressStyleModel",
          "model_module_version": "1.5.0",
          "state": {
            "_model_module": "@jupyter-widgets/controls",
            "_model_module_version": "1.5.0",
            "_model_name": "ProgressStyleModel",
            "_view_count": null,
            "_view_module": "@jupyter-widgets/base",
            "_view_module_version": "1.2.0",
            "_view_name": "StyleView",
            "bar_color": null,
            "description_width": ""
          }
        },
        "914dd244483a4f3e9bd82109368d5689": {
          "model_module": "@jupyter-widgets/base",
          "model_name": "LayoutModel",
          "model_module_version": "1.2.0",
          "state": {
            "_model_module": "@jupyter-widgets/base",
            "_model_module_version": "1.2.0",
            "_model_name": "LayoutModel",
            "_view_count": null,
            "_view_module": "@jupyter-widgets/base",
            "_view_module_version": "1.2.0",
            "_view_name": "LayoutView",
            "align_content": null,
            "align_items": null,
            "align_self": null,
            "border": null,
            "bottom": null,
            "display": null,
            "flex": null,
            "flex_flow": null,
            "grid_area": null,
            "grid_auto_columns": null,
            "grid_auto_flow": null,
            "grid_auto_rows": null,
            "grid_column": null,
            "grid_gap": null,
            "grid_row": null,
            "grid_template_areas": null,
            "grid_template_columns": null,
            "grid_template_rows": null,
            "height": null,
            "justify_content": null,
            "justify_items": null,
            "left": null,
            "margin": null,
            "max_height": null,
            "max_width": null,
            "min_height": null,
            "min_width": null,
            "object_fit": null,
            "object_position": null,
            "order": null,
            "overflow": null,
            "overflow_x": null,
            "overflow_y": null,
            "padding": null,
            "right": null,
            "top": null,
            "visibility": null,
            "width": null
          }
        },
        "2784c2f948c34f71b558d8fd40837eca": {
          "model_module": "@jupyter-widgets/controls",
          "model_name": "DescriptionStyleModel",
          "model_module_version": "1.5.0",
          "state": {
            "_model_module": "@jupyter-widgets/controls",
            "_model_module_version": "1.5.0",
            "_model_name": "DescriptionStyleModel",
            "_view_count": null,
            "_view_module": "@jupyter-widgets/base",
            "_view_module_version": "1.2.0",
            "_view_name": "StyleView",
            "description_width": ""
          }
        },
        "c8cf50b17b2d4e9395f5b698969dea0a": {
          "model_module": "@jupyter-widgets/controls",
          "model_name": "HBoxModel",
          "model_module_version": "1.5.0",
          "state": {
            "_dom_classes": [],
            "_model_module": "@jupyter-widgets/controls",
            "_model_module_version": "1.5.0",
            "_model_name": "HBoxModel",
            "_view_count": null,
            "_view_module": "@jupyter-widgets/controls",
            "_view_module_version": "1.5.0",
            "_view_name": "HBoxView",
            "box_style": "",
            "children": [
              "IPY_MODEL_eec3952551844fe6ae3c58ae9b39fe60",
              "IPY_MODEL_2705a8111bea47578f71f9b8c17d7d3b",
              "IPY_MODEL_9484969c6a33464297e79f10a6e778c8"
            ],
            "layout": "IPY_MODEL_4f75726af1fa4f4daa24bde98a84efb4"
          }
        },
        "eec3952551844fe6ae3c58ae9b39fe60": {
          "model_module": "@jupyter-widgets/controls",
          "model_name": "HTMLModel",
          "model_module_version": "1.5.0",
          "state": {
            "_dom_classes": [],
            "_model_module": "@jupyter-widgets/controls",
            "_model_module_version": "1.5.0",
            "_model_name": "HTMLModel",
            "_view_count": null,
            "_view_module": "@jupyter-widgets/controls",
            "_view_module_version": "1.5.0",
            "_view_name": "HTMLView",
            "description": "",
            "description_tooltip": null,
            "layout": "IPY_MODEL_9c8953364a2547e0919bc46b26c40764",
            "placeholder": "​",
            "style": "IPY_MODEL_f9724eda2c644d029f742777eeeced5b",
            "value": "100%"
          }
        },
        "2705a8111bea47578f71f9b8c17d7d3b": {
          "model_module": "@jupyter-widgets/controls",
          "model_name": "FloatProgressModel",
          "model_module_version": "1.5.0",
          "state": {
            "_dom_classes": [],
            "_model_module": "@jupyter-widgets/controls",
            "_model_module_version": "1.5.0",
            "_model_name": "FloatProgressModel",
            "_view_count": null,
            "_view_module": "@jupyter-widgets/controls",
            "_view_module_version": "1.5.0",
            "_view_name": "ProgressView",
            "bar_style": "success",
            "description": "",
            "description_tooltip": null,
            "layout": "IPY_MODEL_adc11a89c8c14909aa6c689005f3d3bb",
            "max": 1875,
            "min": 0,
            "orientation": "horizontal",
            "style": "IPY_MODEL_ca829121cdb34cdaae569b263e831e67",
            "value": 1875
          }
        },
        "9484969c6a33464297e79f10a6e778c8": {
          "model_module": "@jupyter-widgets/controls",
          "model_name": "HTMLModel",
          "model_module_version": "1.5.0",
          "state": {
            "_dom_classes": [],
            "_model_module": "@jupyter-widgets/controls",
            "_model_module_version": "1.5.0",
            "_model_name": "HTMLModel",
            "_view_count": null,
            "_view_module": "@jupyter-widgets/controls",
            "_view_module_version": "1.5.0",
            "_view_name": "HTMLView",
            "description": "",
            "description_tooltip": null,
            "layout": "IPY_MODEL_14924c0d142147cea4dd0fe4d0a60848",
            "placeholder": "​",
            "style": "IPY_MODEL_22cd56f25cff4677b356b02150cde353",
            "value": " 1875/1875 [00:19&lt;00:00, 74.17it/s]"
          }
        },
        "4f75726af1fa4f4daa24bde98a84efb4": {
          "model_module": "@jupyter-widgets/base",
          "model_name": "LayoutModel",
          "model_module_version": "1.2.0",
          "state": {
            "_model_module": "@jupyter-widgets/base",
            "_model_module_version": "1.2.0",
            "_model_name": "LayoutModel",
            "_view_count": null,
            "_view_module": "@jupyter-widgets/base",
            "_view_module_version": "1.2.0",
            "_view_name": "LayoutView",
            "align_content": null,
            "align_items": null,
            "align_self": null,
            "border": null,
            "bottom": null,
            "display": null,
            "flex": null,
            "flex_flow": null,
            "grid_area": null,
            "grid_auto_columns": null,
            "grid_auto_flow": null,
            "grid_auto_rows": null,
            "grid_column": null,
            "grid_gap": null,
            "grid_row": null,
            "grid_template_areas": null,
            "grid_template_columns": null,
            "grid_template_rows": null,
            "height": null,
            "justify_content": null,
            "justify_items": null,
            "left": null,
            "margin": null,
            "max_height": null,
            "max_width": null,
            "min_height": null,
            "min_width": null,
            "object_fit": null,
            "object_position": null,
            "order": null,
            "overflow": null,
            "overflow_x": null,
            "overflow_y": null,
            "padding": null,
            "right": null,
            "top": null,
            "visibility": null,
            "width": null
          }
        },
        "9c8953364a2547e0919bc46b26c40764": {
          "model_module": "@jupyter-widgets/base",
          "model_name": "LayoutModel",
          "model_module_version": "1.2.0",
          "state": {
            "_model_module": "@jupyter-widgets/base",
            "_model_module_version": "1.2.0",
            "_model_name": "LayoutModel",
            "_view_count": null,
            "_view_module": "@jupyter-widgets/base",
            "_view_module_version": "1.2.0",
            "_view_name": "LayoutView",
            "align_content": null,
            "align_items": null,
            "align_self": null,
            "border": null,
            "bottom": null,
            "display": null,
            "flex": null,
            "flex_flow": null,
            "grid_area": null,
            "grid_auto_columns": null,
            "grid_auto_flow": null,
            "grid_auto_rows": null,
            "grid_column": null,
            "grid_gap": null,
            "grid_row": null,
            "grid_template_areas": null,
            "grid_template_columns": null,
            "grid_template_rows": null,
            "height": null,
            "justify_content": null,
            "justify_items": null,
            "left": null,
            "margin": null,
            "max_height": null,
            "max_width": null,
            "min_height": null,
            "min_width": null,
            "object_fit": null,
            "object_position": null,
            "order": null,
            "overflow": null,
            "overflow_x": null,
            "overflow_y": null,
            "padding": null,
            "right": null,
            "top": null,
            "visibility": null,
            "width": null
          }
        },
        "f9724eda2c644d029f742777eeeced5b": {
          "model_module": "@jupyter-widgets/controls",
          "model_name": "DescriptionStyleModel",
          "model_module_version": "1.5.0",
          "state": {
            "_model_module": "@jupyter-widgets/controls",
            "_model_module_version": "1.5.0",
            "_model_name": "DescriptionStyleModel",
            "_view_count": null,
            "_view_module": "@jupyter-widgets/base",
            "_view_module_version": "1.2.0",
            "_view_name": "StyleView",
            "description_width": ""
          }
        },
        "adc11a89c8c14909aa6c689005f3d3bb": {
          "model_module": "@jupyter-widgets/base",
          "model_name": "LayoutModel",
          "model_module_version": "1.2.0",
          "state": {
            "_model_module": "@jupyter-widgets/base",
            "_model_module_version": "1.2.0",
            "_model_name": "LayoutModel",
            "_view_count": null,
            "_view_module": "@jupyter-widgets/base",
            "_view_module_version": "1.2.0",
            "_view_name": "LayoutView",
            "align_content": null,
            "align_items": null,
            "align_self": null,
            "border": null,
            "bottom": null,
            "display": null,
            "flex": null,
            "flex_flow": null,
            "grid_area": null,
            "grid_auto_columns": null,
            "grid_auto_flow": null,
            "grid_auto_rows": null,
            "grid_column": null,
            "grid_gap": null,
            "grid_row": null,
            "grid_template_areas": null,
            "grid_template_columns": null,
            "grid_template_rows": null,
            "height": null,
            "justify_content": null,
            "justify_items": null,
            "left": null,
            "margin": null,
            "max_height": null,
            "max_width": null,
            "min_height": null,
            "min_width": null,
            "object_fit": null,
            "object_position": null,
            "order": null,
            "overflow": null,
            "overflow_x": null,
            "overflow_y": null,
            "padding": null,
            "right": null,
            "top": null,
            "visibility": null,
            "width": null
          }
        },
        "ca829121cdb34cdaae569b263e831e67": {
          "model_module": "@jupyter-widgets/controls",
          "model_name": "ProgressStyleModel",
          "model_module_version": "1.5.0",
          "state": {
            "_model_module": "@jupyter-widgets/controls",
            "_model_module_version": "1.5.0",
            "_model_name": "ProgressStyleModel",
            "_view_count": null,
            "_view_module": "@jupyter-widgets/base",
            "_view_module_version": "1.2.0",
            "_view_name": "StyleView",
            "bar_color": null,
            "description_width": ""
          }
        },
        "14924c0d142147cea4dd0fe4d0a60848": {
          "model_module": "@jupyter-widgets/base",
          "model_name": "LayoutModel",
          "model_module_version": "1.2.0",
          "state": {
            "_model_module": "@jupyter-widgets/base",
            "_model_module_version": "1.2.0",
            "_model_name": "LayoutModel",
            "_view_count": null,
            "_view_module": "@jupyter-widgets/base",
            "_view_module_version": "1.2.0",
            "_view_name": "LayoutView",
            "align_content": null,
            "align_items": null,
            "align_self": null,
            "border": null,
            "bottom": null,
            "display": null,
            "flex": null,
            "flex_flow": null,
            "grid_area": null,
            "grid_auto_columns": null,
            "grid_auto_flow": null,
            "grid_auto_rows": null,
            "grid_column": null,
            "grid_gap": null,
            "grid_row": null,
            "grid_template_areas": null,
            "grid_template_columns": null,
            "grid_template_rows": null,
            "height": null,
            "justify_content": null,
            "justify_items": null,
            "left": null,
            "margin": null,
            "max_height": null,
            "max_width": null,
            "min_height": null,
            "min_width": null,
            "object_fit": null,
            "object_position": null,
            "order": null,
            "overflow": null,
            "overflow_x": null,
            "overflow_y": null,
            "padding": null,
            "right": null,
            "top": null,
            "visibility": null,
            "width": null
          }
        },
        "22cd56f25cff4677b356b02150cde353": {
          "model_module": "@jupyter-widgets/controls",
          "model_name": "DescriptionStyleModel",
          "model_module_version": "1.5.0",
          "state": {
            "_model_module": "@jupyter-widgets/controls",
            "_model_module_version": "1.5.0",
            "_model_name": "DescriptionStyleModel",
            "_view_count": null,
            "_view_module": "@jupyter-widgets/base",
            "_view_module_version": "1.2.0",
            "_view_name": "StyleView",
            "description_width": ""
          }
        },
        "991a9c913cc641d3835df311827bb787": {
          "model_module": "@jupyter-widgets/controls",
          "model_name": "HBoxModel",
          "model_module_version": "1.5.0",
          "state": {
            "_dom_classes": [],
            "_model_module": "@jupyter-widgets/controls",
            "_model_module_version": "1.5.0",
            "_model_name": "HBoxModel",
            "_view_count": null,
            "_view_module": "@jupyter-widgets/controls",
            "_view_module_version": "1.5.0",
            "_view_name": "HBoxView",
            "box_style": "",
            "children": [
              "IPY_MODEL_49d4bec583ea4110846921f31e013717",
              "IPY_MODEL_80d64aba04304620af1e9d6503bdb2e1",
              "IPY_MODEL_330435e3147a4ddaacc55084f1a865fe"
            ],
            "layout": "IPY_MODEL_131f7daa6265414b9f80b26de76db195"
          }
        },
        "49d4bec583ea4110846921f31e013717": {
          "model_module": "@jupyter-widgets/controls",
          "model_name": "HTMLModel",
          "model_module_version": "1.5.0",
          "state": {
            "_dom_classes": [],
            "_model_module": "@jupyter-widgets/controls",
            "_model_module_version": "1.5.0",
            "_model_name": "HTMLModel",
            "_view_count": null,
            "_view_module": "@jupyter-widgets/controls",
            "_view_module_version": "1.5.0",
            "_view_name": "HTMLView",
            "description": "",
            "description_tooltip": null,
            "layout": "IPY_MODEL_fa815444d9464f35b5bc605cc80a5be2",
            "placeholder": "​",
            "style": "IPY_MODEL_746821d027f24065b3d102a113d35ef0",
            "value": "Collecting predicitons: 100%"
          }
        },
        "80d64aba04304620af1e9d6503bdb2e1": {
          "model_module": "@jupyter-widgets/controls",
          "model_name": "FloatProgressModel",
          "model_module_version": "1.5.0",
          "state": {
            "_dom_classes": [],
            "_model_module": "@jupyter-widgets/controls",
            "_model_module_version": "1.5.0",
            "_model_name": "FloatProgressModel",
            "_view_count": null,
            "_view_module": "@jupyter-widgets/controls",
            "_view_module_version": "1.5.0",
            "_view_name": "ProgressView",
            "bar_style": "success",
            "description": "",
            "description_tooltip": null,
            "layout": "IPY_MODEL_4d52e6582aa143c0941102c0826e10d8",
            "max": 313,
            "min": 0,
            "orientation": "horizontal",
            "style": "IPY_MODEL_d70a4b6a1a7743ada38b1170b96a5cbe",
            "value": 313
          }
        },
        "330435e3147a4ddaacc55084f1a865fe": {
          "model_module": "@jupyter-widgets/controls",
          "model_name": "HTMLModel",
          "model_module_version": "1.5.0",
          "state": {
            "_dom_classes": [],
            "_model_module": "@jupyter-widgets/controls",
            "_model_module_version": "1.5.0",
            "_model_name": "HTMLModel",
            "_view_count": null,
            "_view_module": "@jupyter-widgets/controls",
            "_view_module_version": "1.5.0",
            "_view_name": "HTMLView",
            "description": "",
            "description_tooltip": null,
            "layout": "IPY_MODEL_c10121c2d2c44c48bf9e840d27255ac0",
            "placeholder": "​",
            "style": "IPY_MODEL_28fdb30fd38c438da6d78259403f39e8",
            "value": " 313/313 [00:03&lt;00:00, 116.90it/s]"
          }
        },
        "131f7daa6265414b9f80b26de76db195": {
          "model_module": "@jupyter-widgets/base",
          "model_name": "LayoutModel",
          "model_module_version": "1.2.0",
          "state": {
            "_model_module": "@jupyter-widgets/base",
            "_model_module_version": "1.2.0",
            "_model_name": "LayoutModel",
            "_view_count": null,
            "_view_module": "@jupyter-widgets/base",
            "_view_module_version": "1.2.0",
            "_view_name": "LayoutView",
            "align_content": null,
            "align_items": null,
            "align_self": null,
            "border": null,
            "bottom": null,
            "display": null,
            "flex": null,
            "flex_flow": null,
            "grid_area": null,
            "grid_auto_columns": null,
            "grid_auto_flow": null,
            "grid_auto_rows": null,
            "grid_column": null,
            "grid_gap": null,
            "grid_row": null,
            "grid_template_areas": null,
            "grid_template_columns": null,
            "grid_template_rows": null,
            "height": null,
            "justify_content": null,
            "justify_items": null,
            "left": null,
            "margin": null,
            "max_height": null,
            "max_width": null,
            "min_height": null,
            "min_width": null,
            "object_fit": null,
            "object_position": null,
            "order": null,
            "overflow": null,
            "overflow_x": null,
            "overflow_y": null,
            "padding": null,
            "right": null,
            "top": null,
            "visibility": null,
            "width": null
          }
        },
        "fa815444d9464f35b5bc605cc80a5be2": {
          "model_module": "@jupyter-widgets/base",
          "model_name": "LayoutModel",
          "model_module_version": "1.2.0",
          "state": {
            "_model_module": "@jupyter-widgets/base",
            "_model_module_version": "1.2.0",
            "_model_name": "LayoutModel",
            "_view_count": null,
            "_view_module": "@jupyter-widgets/base",
            "_view_module_version": "1.2.0",
            "_view_name": "LayoutView",
            "align_content": null,
            "align_items": null,
            "align_self": null,
            "border": null,
            "bottom": null,
            "display": null,
            "flex": null,
            "flex_flow": null,
            "grid_area": null,
            "grid_auto_columns": null,
            "grid_auto_flow": null,
            "grid_auto_rows": null,
            "grid_column": null,
            "grid_gap": null,
            "grid_row": null,
            "grid_template_areas": null,
            "grid_template_columns": null,
            "grid_template_rows": null,
            "height": null,
            "justify_content": null,
            "justify_items": null,
            "left": null,
            "margin": null,
            "max_height": null,
            "max_width": null,
            "min_height": null,
            "min_width": null,
            "object_fit": null,
            "object_position": null,
            "order": null,
            "overflow": null,
            "overflow_x": null,
            "overflow_y": null,
            "padding": null,
            "right": null,
            "top": null,
            "visibility": null,
            "width": null
          }
        },
        "746821d027f24065b3d102a113d35ef0": {
          "model_module": "@jupyter-widgets/controls",
          "model_name": "DescriptionStyleModel",
          "model_module_version": "1.5.0",
          "state": {
            "_model_module": "@jupyter-widgets/controls",
            "_model_module_version": "1.5.0",
            "_model_name": "DescriptionStyleModel",
            "_view_count": null,
            "_view_module": "@jupyter-widgets/base",
            "_view_module_version": "1.2.0",
            "_view_name": "StyleView",
            "description_width": ""
          }
        },
        "4d52e6582aa143c0941102c0826e10d8": {
          "model_module": "@jupyter-widgets/base",
          "model_name": "LayoutModel",
          "model_module_version": "1.2.0",
          "state": {
            "_model_module": "@jupyter-widgets/base",
            "_model_module_version": "1.2.0",
            "_model_name": "LayoutModel",
            "_view_count": null,
            "_view_module": "@jupyter-widgets/base",
            "_view_module_version": "1.2.0",
            "_view_name": "LayoutView",
            "align_content": null,
            "align_items": null,
            "align_self": null,
            "border": null,
            "bottom": null,
            "display": null,
            "flex": null,
            "flex_flow": null,
            "grid_area": null,
            "grid_auto_columns": null,
            "grid_auto_flow": null,
            "grid_auto_rows": null,
            "grid_column": null,
            "grid_gap": null,
            "grid_row": null,
            "grid_template_areas": null,
            "grid_template_columns": null,
            "grid_template_rows": null,
            "height": null,
            "justify_content": null,
            "justify_items": null,
            "left": null,
            "margin": null,
            "max_height": null,
            "max_width": null,
            "min_height": null,
            "min_width": null,
            "object_fit": null,
            "object_position": null,
            "order": null,
            "overflow": null,
            "overflow_x": null,
            "overflow_y": null,
            "padding": null,
            "right": null,
            "top": null,
            "visibility": null,
            "width": null
          }
        },
        "d70a4b6a1a7743ada38b1170b96a5cbe": {
          "model_module": "@jupyter-widgets/controls",
          "model_name": "ProgressStyleModel",
          "model_module_version": "1.5.0",
          "state": {
            "_model_module": "@jupyter-widgets/controls",
            "_model_module_version": "1.5.0",
            "_model_name": "ProgressStyleModel",
            "_view_count": null,
            "_view_module": "@jupyter-widgets/base",
            "_view_module_version": "1.2.0",
            "_view_name": "StyleView",
            "bar_color": null,
            "description_width": ""
          }
        },
        "c10121c2d2c44c48bf9e840d27255ac0": {
          "model_module": "@jupyter-widgets/base",
          "model_name": "LayoutModel",
          "model_module_version": "1.2.0",
          "state": {
            "_model_module": "@jupyter-widgets/base",
            "_model_module_version": "1.2.0",
            "_model_name": "LayoutModel",
            "_view_count": null,
            "_view_module": "@jupyter-widgets/base",
            "_view_module_version": "1.2.0",
            "_view_name": "LayoutView",
            "align_content": null,
            "align_items": null,
            "align_self": null,
            "border": null,
            "bottom": null,
            "display": null,
            "flex": null,
            "flex_flow": null,
            "grid_area": null,
            "grid_auto_columns": null,
            "grid_auto_flow": null,
            "grid_auto_rows": null,
            "grid_column": null,
            "grid_gap": null,
            "grid_row": null,
            "grid_template_areas": null,
            "grid_template_columns": null,
            "grid_template_rows": null,
            "height": null,
            "justify_content": null,
            "justify_items": null,
            "left": null,
            "margin": null,
            "max_height": null,
            "max_width": null,
            "min_height": null,
            "min_width": null,
            "object_fit": null,
            "object_position": null,
            "order": null,
            "overflow": null,
            "overflow_x": null,
            "overflow_y": null,
            "padding": null,
            "right": null,
            "top": null,
            "visibility": null,
            "width": null
          }
        },
        "28fdb30fd38c438da6d78259403f39e8": {
          "model_module": "@jupyter-widgets/controls",
          "model_name": "DescriptionStyleModel",
          "model_module_version": "1.5.0",
          "state": {
            "_model_module": "@jupyter-widgets/controls",
            "_model_module_version": "1.5.0",
            "_model_name": "DescriptionStyleModel",
            "_view_count": null,
            "_view_module": "@jupyter-widgets/base",
            "_view_module_version": "1.2.0",
            "_view_name": "StyleView",
            "description_width": ""
          }
        }
      }
    }
  },
  "cells": [
    {
      "cell_type": "markdown",
      "source": [
        "# Digit Classification Model\n",
        "\n",
        "Building a digit classification model using CNN resnet architecture\n",
        "\n",
        "# Author\n",
        "\n",
        "**Amal Varghese**\n",
        "\n",
        "- [Linkedin](https://www.linkedin.com/in/amal-varghese-670225291/)\n",
        "- [Github](https://github.com/codewizard-2004)"
      ],
      "metadata": {
        "id": "9n9qXN6psMrp"
      }
    },
    {
      "cell_type": "markdown",
      "source": [
        "#Importing necessary libraries\n"
      ],
      "metadata": {
        "id": "4tqa3o9AuSI1"
      }
    },
    {
      "cell_type": "code",
      "source": [
        "import torch\n",
        "import torchvision\n",
        "from torch import nn\n",
        "from torchvision import datasets\n",
        "from torchvision.transforms import ToTensor\n",
        "import matplotlib.pyplot as plt\n",
        "from torch.utils.data import DataLoader\n",
        "from timeit import default_timer as timer\n",
        "from tqdm.auto import tqdm\n",
        "import numpy as np\n",
        "\n",
        "print(torch.__version__)\n",
        "print(torchvision.__version__)"
      ],
      "metadata": {
        "colab": {
          "base_uri": "https://localhost:8080/"
        },
        "id": "gHCZsMtTtVR7",
        "outputId": "27dc2aa1-c621-4bca-b058-71576a1305d9"
      },
      "execution_count": 1,
      "outputs": [
        {
          "output_type": "stream",
          "name": "stdout",
          "text": [
            "2.4.1+cu121\n",
            "0.19.1+cu121\n"
          ]
        }
      ]
    },
    {
      "cell_type": "code",
      "source": [
        "try:\n",
        "  import torchmetrics, mlxtend\n",
        "  assert int(mlxtend.__version__.split(\".\")[1]) >=19, \"mlxtend should be 0.19 or higher\"\n",
        "  print(\"torchmetrics and mlxtend are already installed\")\n",
        "except:\n",
        "  !pip install -q torchmetrics -U mlxtend\n",
        "  import torchmetrics, mlxtend\n",
        "  print(f\"mlxtend version: {mlxtend.__version__}\")\n",
        "  print(f\"torchmetrics version: {torchmetrics.__version__}\")"
      ],
      "metadata": {
        "colab": {
          "base_uri": "https://localhost:8080/"
        },
        "id": "x-TsCLx8FNwn",
        "outputId": "9c1a6cd2-9223-4bbd-f455-7bb9c6cc5f13"
      },
      "execution_count": 2,
      "outputs": [
        {
          "output_type": "stream",
          "name": "stdout",
          "text": [
            "torchmetrics and mlxtend are already installed\n"
          ]
        }
      ]
    },
    {
      "cell_type": "markdown",
      "source": [
        "#loading the dataset from PyTorch Datasets"
      ],
      "metadata": {
        "id": "XwZZOJZZuW3f"
      }
    },
    {
      "cell_type": "code",
      "source": [
        "train_data = datasets.MNIST(\n",
        "    root = \"data\",\n",
        "    train = True,\n",
        "    download = True,\n",
        "    transform = ToTensor(),\n",
        "    target_transform = None\n",
        ")\n",
        "\n",
        "test_data = datasets.MNIST(\n",
        "    root = \"data\",\n",
        "    train = False,\n",
        "    download = True,\n",
        "    transform = ToTensor(),\n",
        "    target_transform = None\n",
        ")"
      ],
      "metadata": {
        "id": "INX6sfiouc-f"
      },
      "execution_count": 3,
      "outputs": []
    },
    {
      "cell_type": "markdown",
      "source": [
        "#Exploaratoray data analysis"
      ],
      "metadata": {
        "id": "DRHWcs_qvAkD"
      }
    },
    {
      "cell_type": "code",
      "source": [
        "print(f\"Total size: {len(train_data) + len(test_data)}\")\n",
        "print(f\"Train size: {len(train_data)}\")\n",
        "print(f\"Test size: {len(test_data)}\")"
      ],
      "metadata": {
        "colab": {
          "base_uri": "https://localhost:8080/"
        },
        "id": "8ZyWbnASvHD8",
        "outputId": "7b046088-9227-405e-e0d1-42899b072626"
      },
      "execution_count": 4,
      "outputs": [
        {
          "output_type": "stream",
          "name": "stdout",
          "text": [
            "Total size: 70000\n",
            "Train size: 60000\n",
            "Test size: 10000\n"
          ]
        }
      ]
    },
    {
      "cell_type": "code",
      "source": [
        "#sample data\n",
        "image , digit = train_data[0]\n",
        "class_names = train_data.classes\n",
        "print(f\"image shape:{image.shape}\")\n",
        "print(f\"digit:{digit}\")"
      ],
      "metadata": {
        "colab": {
          "base_uri": "https://localhost:8080/"
        },
        "id": "Cq2V7SLqvSsh",
        "outputId": "2d086f48-e531-4908-ee1b-c809737cb76e"
      },
      "execution_count": 5,
      "outputs": [
        {
          "output_type": "stream",
          "name": "stdout",
          "text": [
            "image shape:torch.Size([1, 28, 28])\n",
            "digit:5\n"
          ]
        }
      ]
    },
    {
      "cell_type": "code",
      "source": [
        "torch.manual_seed(42)\n",
        "\n",
        "def visualize_image_batch(image_data: torch.tensor,class_names:list, row=1 , cols=1, cmap = \"gray\"):\n",
        "  \"\"\"\n",
        "  Visualize a batch of data from a data loader with specified number of rows and columns\n",
        "  by default row = 1  col = 1\n",
        "  \"\"\"\n",
        "  fig = plt.figure(figsize = (9,9))\n",
        "  for i in range(1 , row*cols+1):\n",
        "    random_idx = torch.randint(0, len(image_data) , size = [1]).item()\n",
        "    img , label = image_data[random_idx]\n",
        "    fig.add_subplot(row, cols, i)\n",
        "    plt.imshow(img.squeeze(), cmap = cmap)\n",
        "    plt.title(class_names[label])\n",
        "    plt.axis(False)"
      ],
      "metadata": {
        "id": "8-1n9q20wPhr"
      },
      "execution_count": 6,
      "outputs": []
    },
    {
      "cell_type": "code",
      "source": [
        "visualize_image_batch(row = 3 , cols = 3 ,image_data = train_data, class_names = class_names)"
      ],
      "metadata": {
        "colab": {
          "base_uri": "https://localhost:8080/",
          "height": 752
        },
        "id": "XP1EMRiJwqCn",
        "outputId": "c5576af3-652b-49a3-eeed-1b6f4cd9272d"
      },
      "execution_count": 7,
      "outputs": [
        {
          "output_type": "display_data",
          "data": {
            "text/plain": [
              "<Figure size 900x900 with 9 Axes>"
            ],
            "image/png": "[encoded data removed]"
          },
          "metadata": {}
        }
      ]
    },
    {
      "cell_type": "markdown",
      "source": [
        "Now lets convert our data into a python iterable using DataLoader\n"
      ],
      "metadata": {
        "id": "7XsZSinRxvNq"
      }
    },
    {
      "cell_type": "code",
      "source": [
        "#Set a Batch Size for memory efficiency\n",
        "\n",
        "BATCH_SIZE = 32\n",
        "\n",
        "train_dataloader = DataLoader(\n",
        "    dataset = train_data,\n",
        "    batch_size = BATCH_SIZE,\n",
        "    shuffle = True\n",
        ")\n",
        "\n",
        "test_dataloader = DataLoader(\n",
        "    dataset = test_data,\n",
        "    batch_size = BATCH_SIZE,\n",
        "    shuffle = False\n",
        ")\n",
        "\n",
        "print(f\"Train dataloader: {len(train_dataloader)} batches of {BATCH_SIZE}\")\n",
        "print(f\"Test dataloader: {len(test_dataloader)} batches of {BATCH_SIZE}\")"
      ],
      "metadata": {
        "colab": {
          "base_uri": "https://localhost:8080/"
        },
        "id": "ss5O4VSLx1Ez",
        "outputId": "ceff0b05-1012-4599-c7bd-f833e3aeda81"
      },
      "execution_count": 8,
      "outputs": [
        {
          "output_type": "stream",
          "name": "stdout",
          "text": [
            "Train dataloader: 1875 batches of 32\n",
            "Test dataloader: 313 batches of 32\n"
          ]
        }
      ]
    },
    {
      "cell_type": "code",
      "source": [
        "train_features_batch , train_labels_batch = next(iter(train_dataloader))\n",
        "print(f\"Feature batch shape: {train_features_batch.size()}\")\n",
        "print(f\"Labels batch shape: {train_labels_batch.size()}\")"
      ],
      "metadata": {
        "colab": {
          "base_uri": "https://localhost:8080/"
        },
        "id": "jXoebQK2yOgW",
        "outputId": "cf3062f8-5a1a-4574-c0e3-9d52e115b0cc"
      },
      "execution_count": 9,
      "outputs": [
        {
          "output_type": "stream",
          "name": "stdout",
          "text": [
            "Feature batch shape: torch.Size([32, 1, 28, 28])\n",
            "Labels batch shape: torch.Size([32])\n"
          ]
        }
      ]
    },
    {
      "cell_type": "markdown",
      "source": [
        "# Creatgin oru model using CNN resent PyTorch"
      ],
      "metadata": {
        "id": "MLpZB8bH0zzu"
      }
    },
    {
      "cell_type": "code",
      "source": [
        "device = \"cuda\" if torch.cuda.is_available() else \"cpu\"\n",
        "device"
      ],
      "metadata": {
        "colab": {
          "base_uri": "https://localhost:8080/",
          "height": 36
        },
        "id": "pn9ZGIjG0zdA",
        "outputId": "e1195f86-80c4-44f5-8514-369b78efdf91"
      },
      "execution_count": 10,
      "outputs": [
        {
          "output_type": "execute_result",
          "data": {
            "text/plain": [
              "'cpu'"
            ],
            "application/vnd.google.colaboratory.intrinsic+json": {
              "type": "string"
            }
          },
          "metadata": {},
          "execution_count": 10
        }
      ]
    },
    {
      "cell_type": "code",
      "source": [
        "class HandwrittenDigitClassifier(nn.Module):\n",
        "  def __init__(self , input_shape: int , hidden_units: int , output_shape: int):\n",
        "    super().__init__()\n",
        "\n",
        "    self.block_1 = nn.Sequential(\n",
        "        nn.Conv2d(in_channels=input_shape , out_channels=hidden_units, kernel_size = 3, stride=1 , padding=0),\n",
        "        nn.ReLU()\n",
        "    )\n",
        "\n",
        "    self.block_2 = nn.Sequential(\n",
        "        nn.Conv2d(in_channels=hidden_units , out_channels=hidden_units , kernel_size=1 , stride=1 , padding=0),\n",
        "        nn.ReLU(),\n",
        "        nn.MaxPool2d(kernel_size=2 , stride=2)\n",
        "    )\n",
        "\n",
        "    self.classifier = nn.Sequential(\n",
        "        nn.Flatten(),\n",
        "        nn.Linear(in_features= hidden_units*13*13 , out_features=output_shape)\n",
        "    )\n",
        "\n",
        "  def forward(self , X: torch.tensor):\n",
        "    X = self.block_1(X)\n",
        "    X = self.block_2(X)\n",
        "    X = self.classifier(X)\n",
        "    return X"
      ],
      "metadata": {
        "id": "2T89IjUW6grs"
      },
      "execution_count": 11,
      "outputs": []
    },
    {
      "cell_type": "markdown",
      "source": [
        "using a dummy image to find the output shape"
      ],
      "metadata": {
        "id": "nD_m3TXG9buR"
      }
    },
    {
      "cell_type": "code",
      "source": [
        "image_dummy = torch.randn(size=(32, 1, 28, 28))\n",
        "print(f\"image shape batch: {image_dummy.shape}\")\n",
        "print(f\"dummy single image:{image_dummy[0].shape}\")"
      ],
      "metadata": {
        "colab": {
          "base_uri": "https://localhost:8080/"
        },
        "id": "SFf2IegT66hW",
        "outputId": "b8851538-14d1-4b4e-9c0b-cbb8111ee62a"
      },
      "execution_count": 12,
      "outputs": [
        {
          "output_type": "stream",
          "name": "stdout",
          "text": [
            "image shape batch: torch.Size([32, 1, 28, 28])\n",
            "dummy single image:torch.Size([1, 28, 28])\n"
          ]
        }
      ]
    },
    {
      "cell_type": "code",
      "source": [
        "block_1 = nn.Sequential(\n",
        "        nn.Conv2d(in_channels=1 , out_channels= 10, kernel_size = 3, stride=1 , padding=0),\n",
        "        nn.ReLU()\n",
        "    )\n",
        "block_2 = nn.Sequential(\n",
        "        nn.Conv2d(in_channels=10 , out_channels= len(class_names) , kernel_size=1 , stride=1 , padding=0),\n",
        "        nn.ReLU(),\n",
        "        nn.MaxPool2d(kernel_size=2 , stride=2)\n",
        "    )\n",
        "\n",
        "X = block_1(image_dummy)\n",
        "print(f\"block 1 output shape: {X.shape}\")\n",
        "X = block_2(X)\n",
        "print(f\"block 2 output shape: {X.shape}\")"
      ],
      "metadata": {
        "colab": {
          "base_uri": "https://localhost:8080/"
        },
        "id": "Z6gHp0-68bQg",
        "outputId": "c79db5c4-ded1-4e26-fc11-166a23d5cae6"
      },
      "execution_count": 13,
      "outputs": [
        {
          "output_type": "stream",
          "name": "stdout",
          "text": [
            "block 1 output shape: torch.Size([32, 10, 26, 26])\n",
            "block 2 output shape: torch.Size([32, 10, 13, 13])\n"
          ]
        }
      ]
    },
    {
      "cell_type": "markdown",
      "source": [
        "**Creating an object of the model**\n"
      ],
      "metadata": {
        "id": "Q4cZm4Vt9ghY"
      }
    },
    {
      "cell_type": "code",
      "source": [
        "torch.manual_seed(42)\n",
        "\n",
        "model_0 = HandwrittenDigitClassifier(\n",
        "    input_shape = 1,\n",
        "    hidden_units = 10,\n",
        "    output_shape = len(class_names)\n",
        ").to(device)\n",
        "\n",
        "model_benchmark = HandwrittenDigitClassifier(\n",
        "    input_shape = 1,\n",
        "    hidden_units = 10,\n",
        "    output_shape = len(class_names)\n",
        ").to(device)"
      ],
      "metadata": {
        "id": "JN7E1kD19lLo"
      },
      "execution_count": 14,
      "outputs": []
    },
    {
      "cell_type": "code",
      "source": [
        "model_0.state_dict()"
      ],
      "metadata": {
        "colab": {
          "base_uri": "https://localhost:8080/"
        },
        "id": "jfAh2A1R99aH",
        "outputId": "6092d7bd-4f19-48b8-cd35-e90b86f4ce62"
      },
      "execution_count": 15,
      "outputs": [
        {
          "output_type": "execute_result",
          "data": {
            "text/plain": [
              "OrderedDict([('block_1.0.weight',\n",
              "              tensor([[[[ 0.2548,  0.2767, -0.0781],\n",
              "                        [ 0.3062, -0.0730,  0.0673],\n",
              "                        [-0.1623,  0.1958,  0.2938]]],\n",
              "              \n",
              "              \n",
              "                      [[[-0.2445,  0.2897,  0.0624],\n",
              "                        [ 0.2463,  0.0451,  0.1607],\n",
              "                        [-0.0471,  0.2570,  0.0493]]],\n",
              "              \n",
              "              \n",
              "                      [[[-0.1556,  0.0850, -0.1536],\n",
              "                        [-0.0391, -0.1354,  0.2211],\n",
              "                        [-0.2631, -0.1537, -0.0941]]],\n",
              "              \n",
              "              \n",
              "                      [[[-0.2004,  0.0315, -0.3292],\n",
              "                        [ 0.3010, -0.2832,  0.2573],\n",
              "                        [ 0.0555, -0.1082,  0.2060]]],\n",
              "              \n",
              "              \n",
              "                      [[[ 0.0520,  0.2693,  0.0364],\n",
              "                        [-0.1051,  0.0896, -0.0904],\n",
              "                        [ 0.1403,  0.2976,  0.1927]]],\n",
              "              \n",
              "              \n",
              "                      [[[-0.1457,  0.1924,  0.0596],\n",
              "                        [ 0.1693, -0.2032, -0.3300],\n",
              "                        [-0.1288, -0.2557,  0.2735]]],\n",
              "              \n",
              "              \n",
              "                      [[[ 0.0960,  0.1381,  0.1054],\n",
              "                        [-0.0058,  0.2609, -0.2368],\n",
              "                        [ 0.0210, -0.2275,  0.1028]]],\n",
              "              \n",
              "              \n",
              "                      [[[-0.1148,  0.1021, -0.0694],\n",
              "                        [ 0.2765, -0.1976, -0.1988],\n",
              "                        [-0.1988,  0.2998,  0.1111]]],\n",
              "              \n",
              "              \n",
              "                      [[[ 0.3208, -0.2751, -0.3306],\n",
              "                        [-0.2608, -0.2242,  0.1350],\n",
              "                        [ 0.1194,  0.2770, -0.1721]]],\n",
              "              \n",
              "              \n",
              "                      [[[-0.2272,  0.1769, -0.1347],\n",
              "                        [ 0.2023, -0.0791,  0.1907],\n",
              "                        [-0.2590, -0.1682,  0.1016]]]])),\n",
              "             ('block_1.0.bias',\n",
              "              tensor([ 0.0705, -0.0850,  0.1987,  0.2266, -0.2417, -0.1780,  0.3052, -0.1125,\n",
              "                      -0.1182, -0.3225])),\n",
              "             ('block_2.0.weight',\n",
              "              tensor([[[[-0.1811]],\n",
              "              \n",
              "                       [[ 0.0790]],\n",
              "              \n",
              "                       [[-0.0417]],\n",
              "              \n",
              "                       [[-0.2295]],\n",
              "              \n",
              "                       [[ 0.0074]],\n",
              "              \n",
              "                       [[-0.2160]],\n",
              "              \n",
              "                       [[-0.2683]],\n",
              "              \n",
              "                       [[-0.1741]],\n",
              "              \n",
              "                       [[-0.2768]],\n",
              "              \n",
              "                       [[-0.2014]]],\n",
              "              \n",
              "              \n",
              "                      [[[ 0.3161]],\n",
              "              \n",
              "                       [[ 0.0597]],\n",
              "              \n",
              "                       [[ 0.0974]],\n",
              "              \n",
              "                       [[-0.2949]],\n",
              "              \n",
              "                       [[-0.2077]],\n",
              "              \n",
              "                       [[-0.1053]],\n",
              "              \n",
              "                       [[ 0.0494]],\n",
              "              \n",
              "                       [[-0.2783]],\n",
              "              \n",
              "                       [[-0.1363]],\n",
              "              \n",
              "                       [[-0.1893]]],\n",
              "              \n",
              "              \n",
              "                      [[[ 0.0009]],\n",
              "              \n",
              "                       [[-0.1177]],\n",
              "              \n",
              "                       [[-0.0219]],\n",
              "              \n",
              "                       [[-0.2143]],\n",
              "              \n",
              "                       [[-0.2171]],\n",
              "              \n",
              "                       [[-0.1845]],\n",
              "              \n",
              "                       [[-0.1082]],\n",
              "              \n",
              "                       [[-0.2496]],\n",
              "              \n",
              "                       [[ 0.2651]],\n",
              "              \n",
              "                       [[-0.0628]]],\n",
              "              \n",
              "              \n",
              "                      [[[ 0.2721]],\n",
              "              \n",
              "                       [[ 0.0985]],\n",
              "              \n",
              "                       [[-0.2678]],\n",
              "              \n",
              "                       [[ 0.2188]],\n",
              "              \n",
              "                       [[-0.0870]],\n",
              "              \n",
              "                       [[-0.1212]],\n",
              "              \n",
              "                       [[-0.2625]],\n",
              "              \n",
              "                       [[-0.3144]],\n",
              "              \n",
              "                       [[ 0.0905]],\n",
              "              \n",
              "                       [[-0.0691]]],\n",
              "              \n",
              "              \n",
              "                      [[[ 0.1231]],\n",
              "              \n",
              "                       [[-0.2595]],\n",
              "              \n",
              "                       [[ 0.2348]],\n",
              "              \n",
              "                       [[-0.2321]],\n",
              "              \n",
              "                       [[-0.0546]],\n",
              "              \n",
              "                       [[ 0.0661]],\n",
              "              \n",
              "                       [[ 0.1633]],\n",
              "              \n",
              "                       [[ 0.2553]],\n",
              "              \n",
              "                       [[ 0.2881]],\n",
              "              \n",
              "                       [[-0.2507]]],\n",
              "              \n",
              "              \n",
              "                      [[[ 0.0796]],\n",
              "              \n",
              "                       [[-0.1360]],\n",
              "              \n",
              "                       [[-0.0347]],\n",
              "              \n",
              "                       [[-0.2367]],\n",
              "              \n",
              "                       [[ 0.2880]],\n",
              "              \n",
              "                       [[-0.2321]],\n",
              "              \n",
              "                       [[ 0.1690]],\n",
              "              \n",
              "                       [[ 0.1111]],\n",
              "              \n",
              "                       [[ 0.1028]],\n",
              "              \n",
              "                       [[-0.1710]]],\n",
              "              \n",
              "              \n",
              "                      [[[ 0.2874]],\n",
              "              \n",
              "                       [[ 0.0695]],\n",
              "              \n",
              "                       [[ 0.0407]],\n",
              "              \n",
              "                       [[-0.2787]],\n",
              "              \n",
              "                       [[ 0.1327]],\n",
              "              \n",
              "                       [[-0.0474]],\n",
              "              \n",
              "                       [[-0.1449]],\n",
              "              \n",
              "                       [[ 0.2716]],\n",
              "              \n",
              "                       [[ 0.0705]],\n",
              "              \n",
              "                       [[-0.1750]]],\n",
              "              \n",
              "              \n",
              "                      [[[-0.1601]],\n",
              "              \n",
              "                       [[-0.0151]],\n",
              "              \n",
              "                       [[ 0.1766]],\n",
              "              \n",
              "                       [[-0.0808]],\n",
              "              \n",
              "                       [[-0.1804]],\n",
              "              \n",
              "                       [[-0.1083]],\n",
              "              \n",
              "                       [[-0.2362]],\n",
              "              \n",
              "                       [[ 0.1128]],\n",
              "              \n",
              "                       [[ 0.2448]],\n",
              "              \n",
              "                       [[-0.2977]]],\n",
              "              \n",
              "              \n",
              "                      [[[ 0.0734]],\n",
              "              \n",
              "                       [[ 0.1634]],\n",
              "              \n",
              "                       [[ 0.0573]],\n",
              "              \n",
              "                       [[-0.1126]],\n",
              "              \n",
              "                       [[ 0.1651]],\n",
              "              \n",
              "                       [[ 0.1662]],\n",
              "              \n",
              "                       [[ 0.1182]],\n",
              "              \n",
              "                       [[-0.0556]],\n",
              "              \n",
              "                       [[-0.0837]],\n",
              "              \n",
              "                       [[ 0.0338]]],\n",
              "              \n",
              "              \n",
              "                      [[[-0.0559]],\n",
              "              \n",
              "                       [[-0.0942]],\n",
              "              \n",
              "                       [[ 0.2021]],\n",
              "              \n",
              "                       [[ 0.2718]],\n",
              "              \n",
              "                       [[-0.0313]],\n",
              "              \n",
              "                       [[-0.0708]],\n",
              "              \n",
              "                       [[ 0.0046]],\n",
              "              \n",
              "                       [[-0.0189]],\n",
              "              \n",
              "                       [[ 0.0760]],\n",
              "              \n",
              "                       [[ 0.0886]]]])),\n",
              "             ('block_2.0.bias',\n",
              "              tensor([-0.2872, -0.1167,  0.2663,  0.1232, -0.0157, -0.1907, -0.1935, -0.2833,\n",
              "                      -0.1031,  0.1068])),\n",
              "             ('classifier.1.weight',\n",
              "              tensor([[ 0.0155,  0.0112, -0.0215,  ..., -0.0030,  0.0213, -0.0152],\n",
              "                      [ 0.0113, -0.0208, -0.0122,  ..., -0.0124,  0.0082,  0.0114],\n",
              "                      [ 0.0101, -0.0229, -0.0059,  ..., -0.0203,  0.0170,  0.0078],\n",
              "                      ...,\n",
              "                      [-0.0241, -0.0241, -0.0029,  ...,  0.0187, -0.0105, -0.0067],\n",
              "                      [ 0.0078, -0.0207,  0.0033,  ..., -0.0215, -0.0126,  0.0023],\n",
              "                      [ 0.0028,  0.0064,  0.0189,  ...,  0.0130,  0.0165, -0.0163]])),\n",
              "             ('classifier.1.bias',\n",
              "              tensor([ 0.0226, -0.0179, -0.0158, -0.0100,  0.0238,  0.0136,  0.0068,  0.0141,\n",
              "                      -0.0232, -0.0232]))])"
            ]
          },
          "metadata": {},
          "execution_count": 15
        }
      ]
    },
    {
      "cell_type": "markdown",
      "source": [
        "We have created a model with TinyVGG architecture, lets do some sample testing with this untrained model"
      ],
      "metadata": {
        "id": "-z70mMRh-E9q"
      }
    },
    {
      "cell_type": "markdown",
      "source": [
        "# Setup loss function and optimizer"
      ],
      "metadata": {
        "id": "l8m5N52h-gcb"
      }
    },
    {
      "cell_type": "code",
      "source": [
        "loss_fn = nn.CrossEntropyLoss()\n",
        "optimizer = torch.optim.SGD(params = model_0.parameters() , lr = 0.1)"
      ],
      "metadata": {
        "id": "-ibl_GfL-Nzv"
      },
      "execution_count": 16,
      "outputs": []
    },
    {
      "cell_type": "code",
      "source": [
        "def get_train_time(start: float,\n",
        "                   end: float,\n",
        "                   device: torch.device = device):\n",
        "  \"\"\"\n",
        "  gives the time taken between start and end time of a model\n",
        "  \"\"\"\n",
        "  total_time = end - start\n",
        "  print(f\"Train time on {device}: {total_time:.3f} seconds\")\n",
        "  return total_time"
      ],
      "metadata": {
        "id": "VgdxZzzx-pNM"
      },
      "execution_count": 17,
      "outputs": []
    },
    {
      "cell_type": "code",
      "source": [
        "torch.manual_seed(42)\n",
        "\n",
        "def eval_model(model: torch.nn.Module,\n",
        "               data_loader: torch.utils.data.DataLoader,\n",
        "               loss_fn: torch.nn.Module,\n",
        "               accuracy_fn,\n",
        "               device: torch.device=device):\n",
        "  '''\n",
        "  Returns a dictionary containing the results of the model predicting on data_loader\n",
        "  '''\n",
        "  loss, acc = 0 , 0\n",
        "  model.eval()\n",
        "  model.to(device)\n",
        "  with torch.inference_mode():\n",
        "    #device agnostic\n",
        "    for X,y in tqdm(data_loader):\n",
        "      X,y = X.to(device) , y.to(device)\n",
        "      y_pred = model(X)\n",
        "      loss += loss_fn(y_pred , y)\n",
        "      acc += accuracy_fn(y_true = y , y_pred = y_pred.argmax(dim=1))\n",
        "\n",
        "    #scale the loss and acc to find the avg loss/acc per batch\n",
        "    loss /= len(data_loader)\n",
        "    acc /= len(data_loader)\n",
        "\n",
        "  return {\"model_name\":model.__class__.__name__ ,\n",
        "          \"model_loss\":loss.item() ,\n",
        "          \"model_acc\":acc}\n"
      ],
      "metadata": {
        "id": "attLN5Rl-1YR"
      },
      "execution_count": 18,
      "outputs": []
    },
    {
      "cell_type": "code",
      "source": [
        "def accuracy_fn(y_true, y_pred):\n",
        "    correct = torch.eq(y_true, y_pred).sum().item() # torch.eq() calculates where two tensors are equal\n",
        "    acc = (correct / len(y_pred)) * 100\n",
        "    return acc\n"
      ],
      "metadata": {
        "id": "_-p0_VCI-7TR"
      },
      "execution_count": 19,
      "outputs": []
    },
    {
      "cell_type": "code",
      "source": [
        "#Training loop\n",
        "\n",
        "\n",
        "def train_step(model: torch.nn.Module,\n",
        "               data_loader: torch.utils.data.DataLoader,\n",
        "               loss_fn: torch.nn.Module,\n",
        "               optimizer: torch.optim.Optimizer,\n",
        "               accuracy_fn,\n",
        "               device: torch.device = device):\n",
        "  \"\"\"\n",
        "    Performs training with model trying to learn on data loader\n",
        "  \"\"\"\n",
        "  train_loss , train_acc = 0 , 0\n",
        "  test_loss_stack = []\n",
        "  train_loss_stack = []\n",
        "  model.train()\n",
        "\n",
        "  for batch, (X,y) in enumerate(data_loader):\n",
        "\n",
        "    X,y = X.to(device) , y.to(device)\n",
        "    y_pred = model(X)\n",
        "    loss = loss_fn(y_pred , y)\n",
        "    train_loss_stack.append(loss)\n",
        "    train_loss += loss\n",
        "    train_acc += accuracy_fn(y_true = y , y_pred = y_pred.argmax(dim=1))#Logits -> prediction labels\n",
        "\n",
        "    optimizer.zero_grad()\n",
        "    loss.backward()\n",
        "    optimizer.step()\n",
        "\n",
        "  train_loss /= len(data_loader)\n",
        "  train_acc /= len(data_loader)\n",
        "  print(f\"Train loss: {train_loss:.5f} | Train acc: {train_acc:.2f}%\\n\")\n",
        "  return train_loss_stack\n"
      ],
      "metadata": {
        "id": "FfMH5dvr--24"
      },
      "execution_count": 20,
      "outputs": []
    },
    {
      "cell_type": "code",
      "source": [
        "#Creating a testing loop\n",
        "\n",
        "def test_step(model: torch.nn.Module,\n",
        "              data_loader: torch.utils.data.DataLoader,\n",
        "              loss_fn: torch.nn.Module,\n",
        "              accuracy_fn,\n",
        "              device: torch.device = device):\n",
        "  \"\"\"\n",
        "  Perform a testing loop step on model going over data loader\n",
        "  \"\"\"\n",
        "  test_loss , test_acc = 0 , 0\n",
        "  test_loss_stack = []\n",
        "\n",
        "  model.eval()\n",
        "\n",
        "  with torch.inference_mode():\n",
        "    for X,y in data_loader:\n",
        "      X,y = X.to(device) , y.to(device)\n",
        "      test_pred = model(X)\n",
        "      loss = loss_fn(test_pred , y)\n",
        "      test_loss_stack.append(loss)\n",
        "      test_loss += loss\n",
        "      test_acc += accuracy_fn(y_true = y , y_pred = test_pred.argmax(dim=1))\n",
        "\n",
        "    #Adjust metrics and print out\n",
        "    test_loss /= len(data_loader)\n",
        "    test_acc /= len(data_loader)\n",
        "    print(f\"Test loss: {test_loss:.5f} | Test acc: {test_acc:.2f}%\\n\")\n",
        "    return test_loss_stack"
      ],
      "metadata": {
        "id": "xUG_Vc4d_AXv"
      },
      "execution_count": 21,
      "outputs": []
    },
    {
      "cell_type": "code",
      "source": [
        "def make_single_prediction(model: torch.nn.Module,\n",
        "                           img: torch.tensor,\n",
        "                           class_names: list,\n",
        "                           display: bool= True):\n",
        "  \"\"\"\n",
        "  Makes a single prediction on a single image\n",
        "  \"\"\"\n",
        "  pred_logits = model(img.to(device).unsqueeze(dim = 0)).to(device)\n",
        "  pred_probs = pred_logits.argmax(dim = 1)\n",
        "  if display:\n",
        "    print(f\"Predicted Output: {class_names[pred_probs]}\")\n",
        "  return pred_probs"
      ],
      "metadata": {
        "id": "nv2P--fa_TTh"
      },
      "execution_count": 22,
      "outputs": []
    },
    {
      "cell_type": "code",
      "source": [
        "make_single_prediction(model_0 , image , class_names)"
      ],
      "metadata": {
        "colab": {
          "base_uri": "https://localhost:8080/"
        },
        "id": "m99-n5vVLZy8",
        "outputId": "f4a8a57d-a98c-4f82-8716-e149ec8d441a"
      },
      "execution_count": 23,
      "outputs": [
        {
          "output_type": "stream",
          "name": "stdout",
          "text": [
            "Predicted Output: 3 - three\n"
          ]
        },
        {
          "output_type": "execute_result",
          "data": {
            "text/plain": [
              "tensor([3])"
            ]
          },
          "metadata": {},
          "execution_count": 23
        }
      ]
    },
    {
      "cell_type": "code",
      "source": [
        "image.shape"
      ],
      "metadata": {
        "colab": {
          "base_uri": "https://localhost:8080/"
        },
        "id": "wo-aFz3JhFlb",
        "outputId": "7370dd3c-b468-445b-8531-0410222f6174"
      },
      "execution_count": 24,
      "outputs": [
        {
          "output_type": "execute_result",
          "data": {
            "text/plain": [
              "torch.Size([1, 28, 28])"
            ]
          },
          "metadata": {},
          "execution_count": 24
        }
      ]
    },
    {
      "cell_type": "code",
      "source": [
        "import random\n",
        "def make_random_predictions(model: nn.Module,\n",
        "                            count: int,\n",
        "                            test_data: torchvision.datasets,\n",
        "                            rows:int ,\n",
        "                            cols: int,\n",
        "                            class_names: list,\n",
        "                            seed:int = 42):\n",
        "  '''\n",
        "    This function will give random predctions of amount of count given by the user\n",
        "\n",
        "    Args:\n",
        "      model: the model to make prediction\n",
        "      count: the number of predictions\n",
        "      test_data: The data on which predictions are made use torchvision.datasets\n",
        "      class_names: A lsit containing all the labels\n",
        "      seed: random seeding , 42 by default\n",
        "  '''\n",
        "  torch.manual_seed(seed)\n",
        "  random_numbers = [random.randint(0, len(test_data) - 1) for _ in range(count)]\n",
        "  plt.figure(figsize=(20,20))\n",
        "\n",
        "  for idx, i in enumerate(random_numbers):\n",
        "      sample, label = test_data[i]\n",
        "\n",
        "      # Plot the sample\n",
        "      plt.subplot(rows, cols, idx + 1)  # idx + 1 for correct subplot positioning\n",
        "      plt.imshow(sample.squeeze(), cmap=\"gray\")\n",
        "      plt.axis('off')  # Hide axes\n",
        "\n",
        "      # Make prediction\n",
        "      pred = make_single_prediction(model_0, sample , class_names, False)\n",
        "\n",
        "      # Title with color coding (green for correct, red for incorrect)\n",
        "      if pred == label:\n",
        "          plt.title(f\"Predicted:{class_names[pred]}|Actual:{class_names[label]}\",  color=\"g\")\n",
        "      else:\n",
        "          plt.title(f\"Predicted:{class_names[pred]}|Actual:{class_names[label]}\", color=\"r\")\n",
        "\n",
        "  # Adjust the layout to prevent overlap\n",
        "  plt.show()"
      ],
      "metadata": {
        "id": "LBQbvj_5_ZHu"
      },
      "execution_count": 25,
      "outputs": []
    },
    {
      "cell_type": "code",
      "source": [
        "make_random_predictions(model_0 , 16 , rows=4 , cols=4 ,test_data= test_data ,class_names= class_names)"
      ],
      "metadata": {
        "colab": {
          "base_uri": "https://localhost:8080/",
          "height": 1000
        },
        "id": "hHSJ0-XYOukl",
        "outputId": "15b95f5e-f719-438c-f8f6-911bda54303b"
      },
      "execution_count": 26,
      "outputs": [
        {
          "output_type": "display_data",
          "data": {
            "text/plain": [
              "<Figure size 2000x2000 with 16 Axes>"
            ],
            "image/png": "[encoded data removed]"
          },
          "metadata": {}
        }
      ]
    },
    {
      "cell_type": "markdown",
      "source": [
        "As we can see our model makes terrible predictions"
      ],
      "metadata": {
        "id": "W87qCsBE_pM5"
      }
    },
    {
      "cell_type": "code",
      "source": [
        "#train the model\n",
        "torch.manual_seed(42)\n",
        "\n",
        "train_time_start = timer()\n",
        "epochs = 3\n",
        "\n",
        "for epoch in tqdm(range(epochs)):\n",
        "  print(f\"Epoch:{epoch}\\n----------\")\n",
        "  train_loss_list = train_step(model = model_0,\n",
        "             data_loader = train_dataloader,\n",
        "             optimizer=optimizer,\n",
        "             loss_fn = loss_fn,\n",
        "             accuracy_fn=accuracy_fn,\n",
        "             device=device)\n",
        "  test_loss_list = test_step(model = model_0,\n",
        "            data_loader=test_dataloader,\n",
        "            loss_fn=loss_fn,\n",
        "            accuracy_fn=accuracy_fn,\n",
        "            device=device)\n",
        "\n",
        "train_time_end = timer()\n",
        "total_train_time = get_train_time(start = train_time_start,\n",
        "                                  end = train_time_end)"
      ],
      "metadata": {
        "colab": {
          "base_uri": "https://localhost:8080/",
          "height": 378,
          "referenced_widgets": [
            "87530f70f4194c7b8d178ceda71d9a50",
            "e9144c80d590471e9a89389ba18a3acb",
            "629675a0e7cc406daa1493f3e5f404a8",
            "9f815b31ff834e1b9057a79ceac84e7f",
            "715e0ac1be2e410f91733af2a0e445c9",
            "9e6c574dffe04c5ab109ee40afd21d94",
            "1120ba558d684b638d99952d3351e631",
            "1747742f5d514c468daeda19eaf387e7",
            "9b440ec08e1145cba3ed25e7c754d9b0",
            "914dd244483a4f3e9bd82109368d5689",
            "2784c2f948c34f71b558d8fd40837eca"
          ]
        },
        "id": "4NqoAR3H_upp",
        "outputId": "5fb6069e-91f6-4754-88a0-02880ee5ef93"
      },
      "execution_count": 27,
      "outputs": [
        {
          "output_type": "display_data",
          "data": {
            "text/plain": [
              "  0%|          | 0/3 [00:00<?, ?it/s]"
            ],
            "application/vnd.jupyter.widget-view+json": {
              "version_major": 2,
              "version_minor": 0,
              "model_id": "87530f70f4194c7b8d178ceda71d9a50"
            }
          },
          "metadata": {}
        },
        {
          "output_type": "stream",
          "name": "stdout",
          "text": [
            "Epoch:0\n",
            "----------\n",
            "Train loss: 0.33265 | Train acc: 89.96%\n",
            "\n",
            "Test loss: 0.15591 | Test acc: 95.21%\n",
            "\n",
            "Epoch:1\n",
            "----------\n",
            "Train loss: 0.12839 | Train acc: 96.21%\n",
            "\n",
            "Test loss: 0.08482 | Test acc: 97.48%\n",
            "\n",
            "Epoch:2\n",
            "----------\n",
            "Train loss: 0.08836 | Train acc: 97.34%\n",
            "\n",
            "Test loss: 0.07573 | Test acc: 97.59%\n",
            "\n",
            "Train time on cpu: 114.943 seconds\n"
          ]
        }
      ]
    },
    {
      "cell_type": "markdown",
      "source": [
        "# Evaluating our model"
      ],
      "metadata": {
        "id": "Da_FjC9KKDmx"
      }
    },
    {
      "cell_type": "code",
      "source": [
        "train_results = eval_model(model=model_0,\n",
        "                           data_loader=train_dataloader,\n",
        "                           loss_fn=loss_fn,\n",
        "                           accuracy_fn=accuracy_fn,\n",
        "                           device=device)"
      ],
      "metadata": {
        "colab": {
          "base_uri": "https://localhost:8080/",
          "height": 49,
          "referenced_widgets": [
            "c8cf50b17b2d4e9395f5b698969dea0a",
            "eec3952551844fe6ae3c58ae9b39fe60",
            "2705a8111bea47578f71f9b8c17d7d3b",
            "9484969c6a33464297e79f10a6e778c8",
            "4f75726af1fa4f4daa24bde98a84efb4",
            "9c8953364a2547e0919bc46b26c40764",
            "f9724eda2c644d029f742777eeeced5b",
            "adc11a89c8c14909aa6c689005f3d3bb",
            "ca829121cdb34cdaae569b263e831e67",
            "14924c0d142147cea4dd0fe4d0a60848",
            "22cd56f25cff4677b356b02150cde353"
          ]
        },
        "id": "2vxq_Rd0AzDD",
        "outputId": "d0163c9c-b181-41fe-86a9-71b66fadfc47"
      },
      "execution_count": 28,
      "outputs": [
        {
          "output_type": "display_data",
          "data": {
            "text/plain": [
              "  0%|          | 0/1875 [00:00<?, ?it/s]"
            ],
            "application/vnd.jupyter.widget-view+json": {
              "version_major": 2,
              "version_minor": 0,
              "model_id": "c8cf50b17b2d4e9395f5b698969dea0a"
            }
          },
          "metadata": {}
        }
      ]
    },
    {
      "cell_type": "code",
      "source": [
        "train_results"
      ],
      "metadata": {
        "colab": {
          "base_uri": "https://localhost:8080/"
        },
        "id": "dWVns-7fA8LA",
        "outputId": "cf58f9be-cf73-46e6-a12c-42813d71d227"
      },
      "execution_count": 29,
      "outputs": [
        {
          "output_type": "execute_result",
          "data": {
            "text/plain": [
              "{'model_name': 'HandwrittenDigitClassifier',\n",
              " 'model_loss': 0.07299704104661942,\n",
              " 'model_acc': 97.76333333333334}"
            ]
          },
          "metadata": {},
          "execution_count": 29
        }
      ]
    },
    {
      "cell_type": "markdown",
      "source": [
        "As we can see our model now has an accuracy of 97% which means our model has learnt the patterns of the data"
      ],
      "metadata": {
        "id": "skiMQHdFJRre"
      }
    },
    {
      "cell_type": "markdown",
      "source": [
        "**Confusion matrix of the model**"
      ],
      "metadata": {
        "id": "25C8-9HTKOFJ"
      }
    },
    {
      "cell_type": "code",
      "source": [
        "y_preds = []\n",
        "model_0.eval()\n",
        "\n",
        "with torch.inference_mode():\n",
        "  for X,y in tqdm(test_dataloader , desc=\"Collecting predicitons\"):\n",
        "    X,y = X.to(device) , y.to(device)\n",
        "    y_logits = model_0(X)\n",
        "    y_pred = torch.softmax(y_logits , dim=1).argmax(dim=1)\n",
        "    y_preds.append(y_pred.cpu())\n",
        "\n",
        "y_preds = torch.cat(y_preds)\n",
        "print(y_preds)"
      ],
      "metadata": {
        "colab": {
          "base_uri": "https://localhost:8080/",
          "height": 66,
          "referenced_widgets": [
            "991a9c913cc641d3835df311827bb787",
            "49d4bec583ea4110846921f31e013717",
            "80d64aba04304620af1e9d6503bdb2e1",
            "330435e3147a4ddaacc55084f1a865fe",
            "131f7daa6265414b9f80b26de76db195",
            "fa815444d9464f35b5bc605cc80a5be2",
            "746821d027f24065b3d102a113d35ef0",
            "4d52e6582aa143c0941102c0826e10d8",
            "d70a4b6a1a7743ada38b1170b96a5cbe",
            "c10121c2d2c44c48bf9e840d27255ac0",
            "28fdb30fd38c438da6d78259403f39e8"
          ]
        },
        "id": "9r1rk8eDJWJS",
        "outputId": "1079c23e-ef22-495d-f17a-29ab17765329"
      },
      "execution_count": 30,
      "outputs": [
        {
          "output_type": "display_data",
          "data": {
            "text/plain": [
              "Collecting predicitons:   0%|          | 0/313 [00:00<?, ?it/s]"
            ],
            "application/vnd.jupyter.widget-view+json": {
              "version_major": 2,
              "version_minor": 0,
              "model_id": "991a9c913cc641d3835df311827bb787"
            }
          },
          "metadata": {}
        },
        {
          "output_type": "stream",
          "name": "stdout",
          "text": [
            "tensor([7, 2, 1,  ..., 4, 5, 6])\n"
          ]
        }
      ]
    },
    {
      "cell_type": "code",
      "source": [
        "from torchmetrics import ConfusionMatrix\n",
        "from mlxtend.plotting import plot_confusion_matrix\n",
        "\n",
        "#setup confusion matrix instance\n",
        "confmat = ConfusionMatrix(num_classes=len(class_names) , task=\"multiclass\")\n",
        "confmat_tensor = confmat(preds = y_preds ,\n",
        "                         target = test_data.targets)\n",
        "#plot the confusion matrix\n",
        "fig , ax = plot_confusion_matrix(\n",
        "    conf_mat=confmat_tensor.numpy(),\n",
        "    figsize=(10,7),\n",
        "    class_names=class_names\n",
        ")"
      ],
      "metadata": {
        "colab": {
          "base_uri": "https://localhost:8080/",
          "height": 660
        },
        "id": "bvA6zEkmKq6i",
        "outputId": "2f06214e-2386-4e3d-f8b0-49d0e8ca5c94"
      },
      "execution_count": 31,
      "outputs": [
        {
          "output_type": "display_data",
          "data": {
            "text/plain": [
              "<Figure size 1000x700 with 1 Axes>"
            ],
            "image/png": "[encoded data removed]"
          },
          "metadata": {}
        }
      ]
    },
    {
      "cell_type": "markdown",
      "source": [
        "# lets make some predictions"
      ],
      "metadata": {
        "id": "ow8Thlw2Kx3X"
      }
    },
    {
      "cell_type": "code",
      "source": [
        "make_random_predictions(model_0 ,\n",
        "                        count=50,\n",
        "                        rows=10 ,\n",
        "                        cols =5 ,\n",
        "                        test_data=test_data,\n",
        "                        class_names=class_names)"
      ],
      "metadata": {
        "colab": {
          "base_uri": "https://localhost:8080/",
          "height": 1000
        },
        "id": "adsV9bJTKwho",
        "outputId": "52cdbc04-a5a8-4f9f-a341-bd03435b1dae"
      },
      "execution_count": 32,
      "outputs": [
        {
          "output_type": "display_data",
          "data": {
            "text/plain": [
              "<Figure size 2000x2000 with 50 Axes>"
            ],
            "image/png": "[encoded data removed]"
          },
          "metadata": {}
        }
      ]
    },
    {
      "cell_type": "markdown",
      "source": [
        "As we can see our model is doing well in these predictions"
      ],
      "metadata": {
        "id": "usAsJEh_SUOk"
      }
    },
    {
      "cell_type": "markdown",
      "source": [
        "# Saving the model"
      ],
      "metadata": {
        "id": "QB-xnATSSZfO"
      }
    },
    {
      "cell_type": "code",
      "source": [
        "from pathlib import Path\n",
        "\n",
        "model_path = Path(\"models\")\n",
        "model_path.mkdir(parents=True , exist_ok=True)\n",
        "\n",
        "#create model save\n",
        "model_name = \"HandwrittenModel.pth\"\n",
        "model_save_path = model_path / model_name\n",
        "\n",
        "#save model sate dict\n",
        "torch.save(obj=model_0.state_dict() , f=model_save_path)\n",
        "#"
      ],
      "metadata": {
        "id": "yUlMDO-WSbnL"
      },
      "execution_count": 33,
      "outputs": []
    },
    {
      "cell_type": "code",
      "source": [
        "try:\n",
        "  import gradio_client,gradio\n",
        "  print(\"Libraries already installed\")\n",
        "except:\n",
        "  !pip install gradio\n",
        "  !pip install gradio_client\n",
        "  print(gradio.__version__)"
      ],
      "metadata": {
        "colab": {
          "base_uri": "https://localhost:8080/"
        },
        "id": "SnZlWxBDUxow",
        "outputId": "e5f9268b-6ee2-4aca-92cd-1b07cb8a673e"
      },
      "execution_count": 34,
      "outputs": [
        {
          "output_type": "stream",
          "name": "stdout",
          "text": [
            "Libraries already installed\n"
          ]
        }
      ]
    },
    {
      "cell_type": "markdown",
      "source": [
        "#Loading a saved Model"
      ],
      "metadata": {
        "id": "tQdgkjtciINw"
      }
    },
    {
      "cell_type": "code",
      "source": [
        "loaded_model = HandwrittenDigitClassifier(\n",
        "    input_shape = 1,\n",
        "    hidden_units = 10,\n",
        "    output_shape = len(class_names)\n",
        ").to(device)\n",
        "\n",
        "loaded_model.load_state_dict(torch.load(f=model_save_path))"
      ],
      "metadata": {
        "colab": {
          "base_uri": "https://localhost:8080/"
        },
        "id": "0g6035MuiH01",
        "outputId": "2b14487f-5848-426b-8aee-ce800902b156"
      },
      "execution_count": 35,
      "outputs": [
        {
          "output_type": "stream",
          "name": "stderr",
          "text": [
            "<ipython-input-35-611a456baa16>:7: FutureWarning: You are using `torch.load` with `weights_only=False` (the current default value), which uses the default pickle module implicitly. It is possible to construct malicious pickle data which will execute arbitrary code during unpickling (See https://github.com/pytorch/pytorch/blob/main/SECURITY.md#untrusted-models for more details). In a future release, the default value for `weights_only` will be flipped to `True`. This limits the functions that could be executed during unpickling. Arbitrary objects will no longer be allowed to be loaded via this mode unless they are explicitly allowlisted by the user via `torch.serialization.add_safe_globals`. We recommend you start setting `weights_only=True` for any use case where you don't have full control of the loaded file. Please open an issue on GitHub for any issues related to this experimental feature.\n",
            "  loaded_model.load_state_dict(torch.load(f=model_save_path))\n"
          ]
        },
        {
          "output_type": "execute_result",
          "data": {
            "text/plain": [
              "<All keys matched successfully>"
            ]
          },
          "metadata": {},
          "execution_count": 35
        }
      ]
    },
    {
      "cell_type": "code",
      "source": [
        "import gradio as gr\n",
        "from PIL import Image\n",
        "import torch\n",
        "from torchvision import transforms\n",
        "\n",
        "# Function to resize, convert the image to grayscale, and then to a PyTorch tensor\n",
        "def process_image(image):\n",
        "    if image is None:\n",
        "        return \"No image uploaded. Please upload an image.\"\n",
        "\n",
        "    try:\n",
        "        # Resize the image to 28x28\n",
        "        resized_image = image.resize((28, 28))\n",
        "\n",
        "        # Convert the image to grayscale (1 color channel)\n",
        "        grayscale_image = resized_image.convert('L')\n",
        "\n",
        "        # Convert the grayscale image to a PyTorch tensor\n",
        "        to_tensor = transforms.ToTensor()  # Converts a PIL Image to tensor\n",
        "        image_tensor = to_tensor(grayscale_image)\n",
        "\n",
        "        preds = make_single_prediction(model_0 , image_tensor , class_names).item()\n",
        "\n",
        "\n",
        "\n",
        "        # Return a success message including tensor shape\n",
        "        return f\"The number is {preds}.\"\n",
        "    except Exception as e:\n",
        "        return f\"An error occurred: {str(e)}\"\n",
        "\n",
        "# Create the Gradio interface\n",
        "with gr.Blocks() as demo:\n",
        "    with gr.Row():\n",
        "        with gr.Column():\n",
        "            # File upload component\n",
        "            image_input = gr.Image(type=\"pil\", label=\"Upload Image\")\n",
        "\n",
        "            # Submit button\n",
        "            submit_button = gr.Button(\"Submit\")\n",
        "\n",
        "        with gr.Column():\n",
        "            # Output text\n",
        "            output_text = gr.Textbox(label=\"Message\", placeholder=\"Your message will appear here.\")\n",
        "\n",
        "    # Link the button to trigger the function and display the output message\n",
        "    submit_button.click(fn=process_image, inputs=image_input, outputs=output_text)\n",
        "\n",
        "# Launch the Gradio app\n",
        "demo.launch()\n"
      ],
      "metadata": {
        "colab": {
          "base_uri": "https://localhost:8080/",
          "height": 646
        },
        "id": "MpYTN-Qpab7p",
        "outputId": "4e3b8b51-aedd-4a46-a901-648a6381ee2c"
      },
      "execution_count": 36,
      "outputs": [
        {
          "output_type": "stream",
          "name": "stdout",
          "text": [
            "Setting queue=True in a Colab notebook requires sharing enabled. Setting `share=True` (you can turn this off by setting `share=False` in `launch()` explicitly).\n",
            "\n",
            "Colab notebook detected. To show errors in colab notebook, set debug=True in launch()\n",
            "* Running on public URL: https://f58bd57c40c3572c7f.gradio.live\n",
            "\n",
            "This share link expires in 72 hours. For free permanent hosting and GPU upgrades, run `gradio deploy` from the terminal in the working directory to deploy to Hugging Face Spaces (https://huggingface.co/spaces)\n"
          ]
        },
        {
          "output_type": "display_data",
          "data": {
            "text/plain": [
              "<IPython.core.display.HTML object>"
            ],
            "text/html": [
              "<div><iframe src=\"https://f58bd57c40c3572c7f.gradio.live\" width=\"100%\" height=\"500\" allow=\"autoplay; camera; microphone; clipboard-read; clipboard-write;\" frameborder=\"0\" allowfullscreen></iframe></div>"
            ]
          },
          "metadata": {}
        },
        {
          "output_type": "execute_result",
          "data": {
            "text/plain": []
          },
          "metadata": {},
          "execution_count": 36
        }
      ]
    },
    {
      "cell_type": "markdown",
      "source": [
        "# Try our model with MNIST Images\n",
        "\n",
        "Here are some sample MNIST images:\n",
        "\n",
        "<table>\n",
        "  <tr>\n",
        "    <td><img src=\"https://raw.githubusercontent.com/codewizard-2004/MNISTdigitModel/refs/heads/main/Sampledata/0/0.jpg\" width=\"50\"/></td>\n",
        "    <td><img src=\"https://raw.githubusercontent.com/codewizard-2004/MNISTdigitModel/refs/heads/main/Sampledata/1/1.jpg\" width=\"50\"/></td>\n",
        "    <td><img src=\"https://raw.githubusercontent.com/codewizard-2004/MNISTdigitModel/refs/heads/main/Sampledata/2/2.jpg\" width=\"50\"/></td>\n",
        "    <td><img src=\"https://raw.githubusercontent.com/codewizard-2004/MNISTdigitModel/refs/heads/main/Sampledata/3/3_2.jpg\" width=\"50\"/></td>\n",
        "    <td><img src=\"https://raw.githubusercontent.com/codewizard-2004/MNISTdigitModel/refs/heads/main/Sampledata/4/4_3.jpg\" width=\"50\"/></td>\n",
        "    <td><img src=\"https://raw.githubusercontent.com/codewizard-2004/MNISTdigitModel/refs/heads/main/Sampledata/5/5.jpg\" width=\"50\"/></td>\n",
        "    <td><img src=\"https://raw.githubusercontent.com/codewizard-2004/MNISTdigitModel/refs/heads/main/Sampledata/6/6_2.jpg\" width=\"50\"/></td>\n",
        "    <td><img src=\"https://raw.githubusercontent.com/codewizard-2004/MNISTdigitModel/refs/heads/main/Sampledata/7/7_3.jpg\" width=\"50\"/></td>\n",
        "    <td><img src=\"https://raw.githubusercontent.com/codewizard-2004/MNISTdigitModel/refs/heads/main/Sampledata/8/8.jpg\" width=\"50\"/></td>\n",
        "    <td><img src=\"https://raw.githubusercontent.com/codewizard-2004/MNISTdigitModel/refs/heads/main/Sampledata/9/9.jpg\" width=\"50\"/></td>\n",
        "  </tr>\n",
        "</table>\n",
        "\n",
        "\n",
        "I have uploaded 3 images of each digit in my GitHub Repository [here](https://github.com/codewizard-2004/MNISTdigitModel/tree/main/Sampledata)\n",
        "\n",
        "To download more go to [official](https://yann.lecun.com/exdb/mnist/) website\n"
      ],
      "metadata": {
        "id": "bcnbFV1esqBi"
      }
    }
  ]
}